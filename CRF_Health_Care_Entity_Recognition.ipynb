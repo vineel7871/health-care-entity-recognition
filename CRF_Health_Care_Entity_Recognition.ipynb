{
 "cells": [
  {
   "cell_type": "markdown",
   "metadata": {
    "id": "kT3YkQNowtvf"
   },
   "source": [
    "# Identifying Entities in Healthcare Data\n",
    "\n",
    "\n",
    "\n",
    "## Workspace set up: Import and Install useful packages."
   ]
  },
  {
   "cell_type": "code",
   "execution_count": 1,
   "metadata": {
    "colab": {
     "base_uri": "https://localhost:8080/"
    },
    "id": "hncL_nd-wqjM",
    "outputId": "d49ecad8-6a12-48e6-ef9a-bc4d9e0fd49a"
   },
   "outputs": [
    {
     "name": "stdout",
     "output_type": "stream",
     "text": [
      "Requirement already satisfied: scikit-learn<0.24 in /opt/anaconda3/envs/upgrad/lib/python3.8/site-packages (0.23.2)\n",
      "Requirement already satisfied: sklearn-crfsuite in /opt/anaconda3/envs/upgrad/lib/python3.8/site-packages (0.3.6)\n",
      "Requirement already satisfied: pycrf in /opt/anaconda3/envs/upgrad/lib/python3.8/site-packages (0.0.1)\n",
      "Requirement already satisfied: nltk in /opt/anaconda3/envs/upgrad/lib/python3.8/site-packages (3.6.7)\n",
      "Requirement already satisfied: spacy in /opt/anaconda3/envs/upgrad/lib/python3.8/site-packages (3.2.1)\n",
      "Requirement already satisfied: pandas in /opt/anaconda3/envs/upgrad/lib/python3.8/site-packages (1.3.5)\n",
      "Requirement already satisfied: scipy>=0.19.1 in /opt/anaconda3/envs/upgrad/lib/python3.8/site-packages (from scikit-learn<0.24) (1.7.2)\n",
      "Requirement already satisfied: joblib>=0.11 in /opt/anaconda3/envs/upgrad/lib/python3.8/site-packages (from scikit-learn<0.24) (1.1.0)\n",
      "Requirement already satisfied: threadpoolctl>=2.0.0 in /opt/anaconda3/envs/upgrad/lib/python3.8/site-packages (from scikit-learn<0.24) (3.0.0)\n",
      "Requirement already satisfied: numpy>=1.13.3 in /opt/anaconda3/envs/upgrad/lib/python3.8/site-packages (from scikit-learn<0.24) (1.21.4)\n",
      "Requirement already satisfied: six in /opt/anaconda3/envs/upgrad/lib/python3.8/site-packages (from sklearn-crfsuite) (1.16.0)\n",
      "Requirement already satisfied: python-crfsuite>=0.8.3 in /opt/anaconda3/envs/upgrad/lib/python3.8/site-packages (from sklearn-crfsuite) (0.9.7)\n",
      "Requirement already satisfied: tabulate in /opt/anaconda3/envs/upgrad/lib/python3.8/site-packages (from sklearn-crfsuite) (0.8.9)\n",
      "Requirement already satisfied: tqdm>=2.0 in /opt/anaconda3/envs/upgrad/lib/python3.8/site-packages (from sklearn-crfsuite) (4.62.3)\n",
      "Requirement already satisfied: click in /opt/anaconda3/envs/upgrad/lib/python3.8/site-packages (from nltk) (8.0.3)\n",
      "Requirement already satisfied: regex>=2021.8.3 in /opt/anaconda3/envs/upgrad/lib/python3.8/site-packages (from nltk) (2021.11.10)\n",
      "Requirement already satisfied: cymem<2.1.0,>=2.0.2 in /opt/anaconda3/envs/upgrad/lib/python3.8/site-packages (from spacy) (2.0.6)\n",
      "Requirement already satisfied: pydantic!=1.8,!=1.8.1,<1.9.0,>=1.7.4 in /opt/anaconda3/envs/upgrad/lib/python3.8/site-packages (from spacy) (1.8.2)\n",
      "Requirement already satisfied: catalogue<2.1.0,>=2.0.6 in /opt/anaconda3/envs/upgrad/lib/python3.8/site-packages (from spacy) (2.0.6)\n",
      "Requirement already satisfied: setuptools in /opt/anaconda3/envs/upgrad/lib/python3.8/site-packages (from spacy) (58.0.4)\n",
      "Requirement already satisfied: srsly<3.0.0,>=2.4.1 in /opt/anaconda3/envs/upgrad/lib/python3.8/site-packages (from spacy) (2.4.2)\n",
      "Requirement already satisfied: thinc<8.1.0,>=8.0.12 in /opt/anaconda3/envs/upgrad/lib/python3.8/site-packages (from spacy) (8.0.13)\n",
      "Requirement already satisfied: wasabi<1.1.0,>=0.8.1 in /opt/anaconda3/envs/upgrad/lib/python3.8/site-packages (from spacy) (0.9.0)\n",
      "Requirement already satisfied: murmurhash<1.1.0,>=0.28.0 in /opt/anaconda3/envs/upgrad/lib/python3.8/site-packages (from spacy) (1.0.6)\n",
      "Requirement already satisfied: preshed<3.1.0,>=3.0.2 in /opt/anaconda3/envs/upgrad/lib/python3.8/site-packages (from spacy) (3.0.6)\n",
      "Requirement already satisfied: spacy-legacy<3.1.0,>=3.0.8 in /opt/anaconda3/envs/upgrad/lib/python3.8/site-packages (from spacy) (3.0.8)\n",
      "Requirement already satisfied: spacy-loggers<2.0.0,>=1.0.0 in /opt/anaconda3/envs/upgrad/lib/python3.8/site-packages (from spacy) (1.0.1)\n",
      "Requirement already satisfied: blis<0.8.0,>=0.4.0 in /opt/anaconda3/envs/upgrad/lib/python3.8/site-packages (from spacy) (0.7.5)\n",
      "Requirement already satisfied: langcodes<4.0.0,>=3.2.0 in /opt/anaconda3/envs/upgrad/lib/python3.8/site-packages (from spacy) (3.3.0)\n",
      "Requirement already satisfied: jinja2 in /opt/anaconda3/envs/upgrad/lib/python3.8/site-packages (from spacy) (3.0.3)\n",
      "Requirement already satisfied: packaging>=20.0 in /opt/anaconda3/envs/upgrad/lib/python3.8/site-packages (from spacy) (21.3)\n",
      "Requirement already satisfied: typer<0.5.0,>=0.3.0 in /opt/anaconda3/envs/upgrad/lib/python3.8/site-packages (from spacy) (0.4.0)\n",
      "Requirement already satisfied: pathy>=0.3.5 in /opt/anaconda3/envs/upgrad/lib/python3.8/site-packages (from spacy) (0.6.1)\n",
      "Requirement already satisfied: requests<3.0.0,>=2.13.0 in /opt/anaconda3/envs/upgrad/lib/python3.8/site-packages (from spacy) (2.26.0)\n",
      "Requirement already satisfied: python-dateutil>=2.7.3 in /opt/anaconda3/envs/upgrad/lib/python3.8/site-packages (from pandas) (2.8.2)\n",
      "Requirement already satisfied: pytz>=2017.3 in /opt/anaconda3/envs/upgrad/lib/python3.8/site-packages (from pandas) (2021.3)\n",
      "Requirement already satisfied: pyparsing!=3.0.5,>=2.0.2 in /opt/anaconda3/envs/upgrad/lib/python3.8/site-packages (from packaging>=20.0->spacy) (3.0.6)\n",
      "Requirement already satisfied: smart-open<6.0.0,>=5.0.0 in /opt/anaconda3/envs/upgrad/lib/python3.8/site-packages (from pathy>=0.3.5->spacy) (5.2.1)\n",
      "Requirement already satisfied: typing-extensions>=3.7.4.3 in /opt/anaconda3/envs/upgrad/lib/python3.8/site-packages (from pydantic!=1.8,!=1.8.1,<1.9.0,>=1.7.4->spacy) (4.0.0)\n",
      "Requirement already satisfied: charset-normalizer~=2.0.0 in /opt/anaconda3/envs/upgrad/lib/python3.8/site-packages (from requests<3.0.0,>=2.13.0->spacy) (2.0.7)\n",
      "Requirement already satisfied: idna<4,>=2.5 in /opt/anaconda3/envs/upgrad/lib/python3.8/site-packages (from requests<3.0.0,>=2.13.0->spacy) (3.3)\n",
      "Requirement already satisfied: certifi>=2017.4.17 in /opt/anaconda3/envs/upgrad/lib/python3.8/site-packages (from requests<3.0.0,>=2.13.0->spacy) (2021.10.8)\n",
      "Requirement already satisfied: urllib3<1.27,>=1.21.1 in /opt/anaconda3/envs/upgrad/lib/python3.8/site-packages (from requests<3.0.0,>=2.13.0->spacy) (1.26.7)\n",
      "Requirement already satisfied: MarkupSafe>=2.0 in /opt/anaconda3/envs/upgrad/lib/python3.8/site-packages (from jinja2->spacy) (2.0.1)\n",
      "Collecting en-core-web-sm==3.2.0\n",
      "  Downloading https://github.com/explosion/spacy-models/releases/download/en_core_web_sm-3.2.0/en_core_web_sm-3.2.0-py3-none-any.whl (13.9 MB)\n",
      "\u001b[K     |████████████████████████████████| 13.9 MB 10.4 MB/s eta 0:00:01\n",
      "\u001b[?25hRequirement already satisfied: spacy<3.3.0,>=3.2.0 in /opt/anaconda3/envs/upgrad/lib/python3.8/site-packages (from en-core-web-sm==3.2.0) (3.2.1)\n",
      "Requirement already satisfied: wasabi<1.1.0,>=0.8.1 in /opt/anaconda3/envs/upgrad/lib/python3.8/site-packages (from spacy<3.3.0,>=3.2.0->en-core-web-sm==3.2.0) (0.9.0)\n",
      "Requirement already satisfied: setuptools in /opt/anaconda3/envs/upgrad/lib/python3.8/site-packages (from spacy<3.3.0,>=3.2.0->en-core-web-sm==3.2.0) (58.0.4)\n",
      "Requirement already satisfied: pathy>=0.3.5 in /opt/anaconda3/envs/upgrad/lib/python3.8/site-packages (from spacy<3.3.0,>=3.2.0->en-core-web-sm==3.2.0) (0.6.1)\n",
      "Requirement already satisfied: requests<3.0.0,>=2.13.0 in /opt/anaconda3/envs/upgrad/lib/python3.8/site-packages (from spacy<3.3.0,>=3.2.0->en-core-web-sm==3.2.0) (2.26.0)\n",
      "Requirement already satisfied: cymem<2.1.0,>=2.0.2 in /opt/anaconda3/envs/upgrad/lib/python3.8/site-packages (from spacy<3.3.0,>=3.2.0->en-core-web-sm==3.2.0) (2.0.6)\n",
      "Requirement already satisfied: typer<0.5.0,>=0.3.0 in /opt/anaconda3/envs/upgrad/lib/python3.8/site-packages (from spacy<3.3.0,>=3.2.0->en-core-web-sm==3.2.0) (0.4.0)\n",
      "Requirement already satisfied: packaging>=20.0 in /opt/anaconda3/envs/upgrad/lib/python3.8/site-packages (from spacy<3.3.0,>=3.2.0->en-core-web-sm==3.2.0) (21.3)\n",
      "Requirement already satisfied: murmurhash<1.1.0,>=0.28.0 in /opt/anaconda3/envs/upgrad/lib/python3.8/site-packages (from spacy<3.3.0,>=3.2.0->en-core-web-sm==3.2.0) (1.0.6)\n",
      "Requirement already satisfied: srsly<3.0.0,>=2.4.1 in /opt/anaconda3/envs/upgrad/lib/python3.8/site-packages (from spacy<3.3.0,>=3.2.0->en-core-web-sm==3.2.0) (2.4.2)\n",
      "Requirement already satisfied: numpy>=1.15.0 in /opt/anaconda3/envs/upgrad/lib/python3.8/site-packages (from spacy<3.3.0,>=3.2.0->en-core-web-sm==3.2.0) (1.21.4)\n",
      "Requirement already satisfied: preshed<3.1.0,>=3.0.2 in /opt/anaconda3/envs/upgrad/lib/python3.8/site-packages (from spacy<3.3.0,>=3.2.0->en-core-web-sm==3.2.0) (3.0.6)\n",
      "Requirement already satisfied: tqdm<5.0.0,>=4.38.0 in /opt/anaconda3/envs/upgrad/lib/python3.8/site-packages (from spacy<3.3.0,>=3.2.0->en-core-web-sm==3.2.0) (4.62.3)\n",
      "Requirement already satisfied: spacy-legacy<3.1.0,>=3.0.8 in /opt/anaconda3/envs/upgrad/lib/python3.8/site-packages (from spacy<3.3.0,>=3.2.0->en-core-web-sm==3.2.0) (3.0.8)\n",
      "Requirement already satisfied: catalogue<2.1.0,>=2.0.6 in /opt/anaconda3/envs/upgrad/lib/python3.8/site-packages (from spacy<3.3.0,>=3.2.0->en-core-web-sm==3.2.0) (2.0.6)\n",
      "Requirement already satisfied: jinja2 in /opt/anaconda3/envs/upgrad/lib/python3.8/site-packages (from spacy<3.3.0,>=3.2.0->en-core-web-sm==3.2.0) (3.0.3)\n",
      "Requirement already satisfied: spacy-loggers<2.0.0,>=1.0.0 in /opt/anaconda3/envs/upgrad/lib/python3.8/site-packages (from spacy<3.3.0,>=3.2.0->en-core-web-sm==3.2.0) (1.0.1)\n",
      "Requirement already satisfied: blis<0.8.0,>=0.4.0 in /opt/anaconda3/envs/upgrad/lib/python3.8/site-packages (from spacy<3.3.0,>=3.2.0->en-core-web-sm==3.2.0) (0.7.5)\n",
      "Requirement already satisfied: langcodes<4.0.0,>=3.2.0 in /opt/anaconda3/envs/upgrad/lib/python3.8/site-packages (from spacy<3.3.0,>=3.2.0->en-core-web-sm==3.2.0) (3.3.0)\n",
      "Requirement already satisfied: thinc<8.1.0,>=8.0.12 in /opt/anaconda3/envs/upgrad/lib/python3.8/site-packages (from spacy<3.3.0,>=3.2.0->en-core-web-sm==3.2.0) (8.0.13)\n",
      "Requirement already satisfied: pydantic!=1.8,!=1.8.1,<1.9.0,>=1.7.4 in /opt/anaconda3/envs/upgrad/lib/python3.8/site-packages (from spacy<3.3.0,>=3.2.0->en-core-web-sm==3.2.0) (1.8.2)\n",
      "Requirement already satisfied: pyparsing!=3.0.5,>=2.0.2 in /opt/anaconda3/envs/upgrad/lib/python3.8/site-packages (from packaging>=20.0->spacy<3.3.0,>=3.2.0->en-core-web-sm==3.2.0) (3.0.6)\n"
     ]
    },
    {
     "name": "stdout",
     "output_type": "stream",
     "text": [
      "Requirement already satisfied: smart-open<6.0.0,>=5.0.0 in /opt/anaconda3/envs/upgrad/lib/python3.8/site-packages (from pathy>=0.3.5->spacy<3.3.0,>=3.2.0->en-core-web-sm==3.2.0) (5.2.1)\n",
      "Requirement already satisfied: typing-extensions>=3.7.4.3 in /opt/anaconda3/envs/upgrad/lib/python3.8/site-packages (from pydantic!=1.8,!=1.8.1,<1.9.0,>=1.7.4->spacy<3.3.0,>=3.2.0->en-core-web-sm==3.2.0) (4.0.0)\n",
      "Requirement already satisfied: certifi>=2017.4.17 in /opt/anaconda3/envs/upgrad/lib/python3.8/site-packages (from requests<3.0.0,>=2.13.0->spacy<3.3.0,>=3.2.0->en-core-web-sm==3.2.0) (2021.10.8)\n",
      "Requirement already satisfied: idna<4,>=2.5 in /opt/anaconda3/envs/upgrad/lib/python3.8/site-packages (from requests<3.0.0,>=2.13.0->spacy<3.3.0,>=3.2.0->en-core-web-sm==3.2.0) (3.3)\n",
      "Requirement already satisfied: urllib3<1.27,>=1.21.1 in /opt/anaconda3/envs/upgrad/lib/python3.8/site-packages (from requests<3.0.0,>=2.13.0->spacy<3.3.0,>=3.2.0->en-core-web-sm==3.2.0) (1.26.7)\n",
      "Requirement already satisfied: charset-normalizer~=2.0.0 in /opt/anaconda3/envs/upgrad/lib/python3.8/site-packages (from requests<3.0.0,>=2.13.0->spacy<3.3.0,>=3.2.0->en-core-web-sm==3.2.0) (2.0.7)\n",
      "Requirement already satisfied: click<9.0.0,>=7.1.1 in /opt/anaconda3/envs/upgrad/lib/python3.8/site-packages (from typer<0.5.0,>=0.3.0->spacy<3.3.0,>=3.2.0->en-core-web-sm==3.2.0) (8.0.3)\n",
      "Requirement already satisfied: MarkupSafe>=2.0 in /opt/anaconda3/envs/upgrad/lib/python3.8/site-packages (from jinja2->spacy<3.3.0,>=3.2.0->en-core-web-sm==3.2.0) (2.0.1)\n",
      "\u001b[38;5;2m✔ Download and installation successful\u001b[0m\n",
      "You can now load the package via spacy.load('en_core_web_sm')\n"
     ]
    }
   ],
   "source": [
    "# installing dependencies\n",
    "# importing libraries\n",
    "\n",
    "!pip install -U 'scikit-learn<0.24' sklearn-crfsuite pycrf nltk spacy pandas\n",
    "!python -m spacy download en_core_web_sm\n",
    "\n",
    "import spacy, nltk\n",
    "import sklearn_crfsuite\n",
    "from sklearn_crfsuite import metrics\n",
    "from spacy.matcher import Matcher\n",
    "from spacy.tokenizer import Tokenizer\n",
    "from spacy.tokens import Token\n",
    "\n",
    "Token.set_extension('noun_chunk', default=False)"
   ]
  },
  {
   "cell_type": "code",
   "execution_count": 2,
   "metadata": {
    "colab": {
     "base_uri": "https://localhost:8080/"
    },
    "id": "-iOHNZ1X55Wh",
    "outputId": "cbd148d4-cea2-495a-f3b6-4a2f5f903238"
   },
   "outputs": [
    {
     "name": "stderr",
     "output_type": "stream",
     "text": [
      "[nltk_data] Downloading package stopwords to /Users/apple/nltk_data...\n",
      "[nltk_data]   Package stopwords is already up-to-date!\n",
      "[nltk_data] Downloading package averaged_perceptron_tagger to\n",
      "[nltk_data]     /Users/apple/nltk_data...\n",
      "[nltk_data]   Package averaged_perceptron_tagger is already up-to-\n",
      "[nltk_data]       date!\n"
     ]
    },
    {
     "data": {
      "text/plain": [
       "True"
      ]
     },
     "execution_count": 2,
     "metadata": {},
     "output_type": "execute_result"
    }
   ],
   "source": [
    "# downloading nltk data\n",
    "\n",
    "nltk.download('stopwords')\n",
    "nltk.download('averaged_perceptron_tagger')"
   ]
  },
  {
   "cell_type": "markdown",
   "metadata": {
    "id": "dV9OWyH2w3Wk"
   },
   "source": [
    "## Data Preprocessing\n",
    "\n",
    "The dataset provided is in the form of one word per line. Let's understand the format of data below:\n",
    "- Suppose there are *x* words in a sentence, then there will be *x* continuous lines with one word in each line. \n",
    "- Further, the two sentences are separated by empty lines. The labels for the data follow the same format.\n",
    "\n",
    "**We need to pre-process the data to recover the complete sentences and their labels.**\n",
    "\n",
    "\n",
    "### Construct the proper sentences from individual words and print the 5 sentences.\n",
    "\n",
    "![image.png](data:image/png;base64,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)\n",
    "\n",
    "![image.png](data:image/png;base64,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)"
   ]
  },
  {
   "cell_type": "code",
   "execution_count": 3,
   "metadata": {
    "id": "-pz7ZgJuxSrH"
   },
   "outputs": [],
   "source": [
    "# Defining a function that will create a list of sentences from the data in the given format\n",
    "\n",
    "def get_sentences(f:str):\n",
    "    with open(f) as fobj:\n",
    "        data = fobj.read().splitlines()\n",
    "    sentences = []\n",
    "    sentence = \"\"\n",
    "    for x in data:\n",
    "        if len(x.strip()) != 0:\n",
    "            sentence += x\n",
    "            sentence += \" \"\n",
    "        else:\n",
    "            sentences.append(sentence.strip())\n",
    "            sentence = \"\"\n",
    "    return sentences"
   ]
  },
  {
   "cell_type": "code",
   "execution_count": 4,
   "metadata": {
    "id": "IJtl3zejxTei"
   },
   "outputs": [],
   "source": [
    "# getting a list of training sentences and training labels from the data by using the function we ahve defined above\n",
    "\n",
    "train_sent = get_sentences(\"./train_sent\")\n",
    "train_label = get_sentences(\"./train_label\")"
   ]
  },
  {
   "cell_type": "code",
   "execution_count": 5,
   "metadata": {
    "id": "VB1nbcB4xeUX"
   },
   "outputs": [],
   "source": [
    "# getting a list of testing sentences and testing labels from the data by using the function we ahve defined above\n",
    "\n",
    "test_sent = get_sentences(\"./test_sent\")\n",
    "test_label = get_sentences(\"./test_label\")"
   ]
  },
  {
   "cell_type": "code",
   "execution_count": 6,
   "metadata": {
    "colab": {
     "base_uri": "https://localhost:8080/"
    },
    "id": "AugAApo5_ErZ",
    "outputId": "dacb677d-33e4-45f5-f4d9-8db5e136bbe6"
   },
   "outputs": [
    {
     "data": {
      "text/plain": [
       "['All live births > or = 23 weeks at the University of Vermont in 1995 ( n = 2395 ) were retrospectively analyzed for delivery route , indication for cesarean , gestational age , parity , and practice group ( to reflect risk status )',\n",
       " 'The total cesarean rate was 14.4 % ( 344 of 2395 ) , and the primary rate was 11.4 % ( 244 of 2144 )',\n",
       " 'Abnormal presentation was the most common indication ( 25.6 % , 88 of 344 )',\n",
       " \"The `` corrected '' cesarean rate ( maternal-fetal medicine and transported patients excluded ) was 12.4 % ( 273 of 2194 ) , and the `` corrected '' primary rate was 9.6 % ( 190 of 1975 )\",\n",
       " \"Arrest of dilation was the most common indication in both `` corrected '' subgroups ( 23.4 and 24.6 % , respectively )\"]"
      ]
     },
     "execution_count": 6,
     "metadata": {},
     "output_type": "execute_result"
    }
   ],
   "source": [
    "# printing 5 sentences from train data to make sure the data is in correct format\n",
    "\n",
    "train_sent[:5]"
   ]
  },
  {
   "cell_type": "code",
   "execution_count": 7,
   "metadata": {
    "colab": {
     "base_uri": "https://localhost:8080/"
    },
    "id": "OJe2fHXD_4sZ",
    "outputId": "97ec0806-a86f-4e33-9e3d-5731c0aa4168"
   },
   "outputs": [
    {
     "data": {
      "text/plain": [
       "['O O O O O O O O O O O O O O O O O O O O O O O O O O O O O O O O O O O O O O O O O O O O O',\n",
       " 'O O O O O O O O O O O O O O O O O O O O O O O O O',\n",
       " 'O O O O O O O O O O O O O O O',\n",
       " 'O O O O O O O O O O O O O O O O O O O O O O O O O O O O O O O O O O O O O O',\n",
       " 'O O O O O O O O O O O O O O O O O O O O O O']"
      ]
     },
     "execution_count": 7,
     "metadata": {},
     "output_type": "execute_result"
    }
   ],
   "source": [
    "# printing 5 labels from train data to make sure the data is in correct format\n",
    "\n",
    "train_label[:5]"
   ]
  },
  {
   "cell_type": "code",
   "execution_count": 8,
   "metadata": {
    "colab": {
     "base_uri": "https://localhost:8080/"
    },
    "id": "TOJBImRO_JYd",
    "outputId": "7625ab6b-f180-4ac1-a7eb-9ebdabca733c"
   },
   "outputs": [
    {
     "data": {
      "text/plain": [
       "['All live births > or = 23 weeks at the University of Vermont in 1995 ( n = 2395 ) were retrospectively analyzed for delivery route , indication for cesarean , gestational age , parity , and practice group ( to reflect risk status )',\n",
       " 'The total cesarean rate was 14.4 % ( 344 of 2395 ) , and the primary rate was 11.4 % ( 244 of 2144 )',\n",
       " 'Abnormal presentation was the most common indication ( 25.6 % , 88 of 344 )',\n",
       " \"The `` corrected '' cesarean rate ( maternal-fetal medicine and transported patients excluded ) was 12.4 % ( 273 of 2194 ) , and the `` corrected '' primary rate was 9.6 % ( 190 of 1975 )\",\n",
       " \"Arrest of dilation was the most common indication in both `` corrected '' subgroups ( 23.4 and 24.6 % , respectively )\"]"
      ]
     },
     "execution_count": 8,
     "metadata": {},
     "output_type": "execute_result"
    }
   ],
   "source": [
    "# printing 5 sentences from test data to make sure the data is in correct format\n",
    "\n",
    "train_sent[:5]"
   ]
  },
  {
   "cell_type": "code",
   "execution_count": 9,
   "metadata": {
    "colab": {
     "base_uri": "https://localhost:8080/"
    },
    "id": "XxvbFBKB_5DH",
    "outputId": "8375ec6f-f97d-4c87-8baa-80f7a715804d"
   },
   "outputs": [
    {
     "data": {
      "text/plain": [
       "['O O O O O O O O O O O O O O O O O O O O O O O O O O O O O O O O O O O O O O O O O O O O O',\n",
       " 'O O O O O O O O O O O O O O O O O O O O O O O O O',\n",
       " 'O O O O O O O O O O O O O O O',\n",
       " 'O O O O O O O O O O O O O O O O O O O O O O O O O O O O O O O O O O O O O O',\n",
       " 'O O O O O O O O O O O O O O O O O O O O O O']"
      ]
     },
     "execution_count": 9,
     "metadata": {},
     "output_type": "execute_result"
    }
   ],
   "source": [
    "# printing 5 labels from train data to make sure the data is in correct format\n",
    "\n",
    "train_label[:5]"
   ]
  },
  {
   "cell_type": "markdown",
   "metadata": {
    "id": "N2WfbnsMx-Rx"
   },
   "source": [
    "### Count the number of sentences in the processed train and test dataset "
   ]
  },
  {
   "cell_type": "code",
   "execution_count": 10,
   "metadata": {
    "colab": {
     "base_uri": "https://localhost:8080/"
    },
    "id": "UIqsPKfZx6vy",
    "outputId": "7a337b49-7458-4457-e164-899250369f68"
   },
   "outputs": [
    {
     "name": "stdout",
     "output_type": "stream",
     "text": [
      "count of sentences in train dataset :  2599\n",
      "count of sentences in test dataset :  1056\n"
     ]
    }
   ],
   "source": [
    "# count of train and test sentences\n",
    "\n",
    "print(\"count of sentences in train dataset : \", len(train_sent))\n",
    "print(\"count of sentences in test dataset : \", len(test_sent))"
   ]
  },
  {
   "cell_type": "markdown",
   "metadata": {
    "id": "PwN0ubjKyEW4"
   },
   "source": [
    "### Count the number of lines of labels in the processed train and test dataset."
   ]
  },
  {
   "cell_type": "code",
   "execution_count": 11,
   "metadata": {
    "colab": {
     "base_uri": "https://localhost:8080/"
    },
    "id": "sBFTBlZfyB9y",
    "outputId": "54951d17-84fb-44db-8961-9c9fdad76034"
   },
   "outputs": [
    {
     "name": "stdout",
     "output_type": "stream",
     "text": [
      "count of labels in train dataset :  2599\n",
      "count of labels in test dataset :  1056\n"
     ]
    }
   ],
   "source": [
    "# count of train and test labels\n",
    "\n",
    "print(\"count of labels in train dataset : \", len(train_label))\n",
    "print(\"count of labels in test dataset : \", len(test_label))"
   ]
  },
  {
   "cell_type": "code",
   "execution_count": 12,
   "metadata": {
    "id": "wioSZ-s26BYr"
   },
   "outputs": [],
   "source": [
    "# initializing and getting english stopwords from nltk\n",
    "\n",
    "from nltk.corpus import stopwords\n",
    "stopwords = stopwords.words(\"english\")"
   ]
  },
  {
   "cell_type": "markdown",
   "metadata": {
    "id": "6K29l1WhyMFz"
   },
   "source": [
    "## Concept Identification\n",
    "\n",
    "We will first explore what are the various concepts present in the dataset. For this, we will use PoS Tagging. \n",
    "\n",
    "### Extract those tokens which have NOUN or PROPN as their PoS tag and find their frequency"
   ]
  },
  {
   "cell_type": "code",
   "execution_count": 13,
   "metadata": {
    "id": "waxbK7_-yH6Z"
   },
   "outputs": [],
   "source": [
    "import re\n",
    "freq = {}\n",
    "freq2 = {}\n",
    "nlp = spacy.load(\"en_core_web_sm\", disable=['ner'])\n",
    "\n",
    "# we are using the custom tokenizer that uses the basic string.split.\n",
    "nlp.tokenizer = Tokenizer(nlp.vocab)\n",
    "\n",
    "for x in test_sent:\n",
    "    doc = nlp(x)\n",
    "    for y in doc:\n",
    "        if y.pos_ in [\"NOUN\",\"PROPN\"] and y.text.lower() not in stopwords and re.match(\"\\w+\", y.text):\n",
    "            freq[y.text.lower()] = freq.get(y.text,0)+1\n",
    "    for np in doc.noun_chunks:\n",
    "        freq2[np.text.lower()] = freq2.get(np.text,0)+1\n",
    "    \n",
    "\n",
    "for x in train_sent:\n",
    "    doc = nlp(x)\n",
    "    for y in doc:\n",
    "        if y.pos_ in [\"NOUN\",\"PROPN\"] and y.text.lower() not in stopwords and re.match(\"\\w+\", y.text):\n",
    "            freq[y.text.lower()]  = freq.get(y.text,0)+1\n",
    "    for np in doc.noun_chunks:\n",
    "        freq2[np.text.lower()] = freq2.get(np.text,0)+1\n",
    "        "
   ]
  },
  {
   "cell_type": "markdown",
   "metadata": {
    "id": "VQszVlZ5z-yL"
   },
   "source": [
    "### Print the top 25 most common tokens with NOUN or PROPN PoS tags"
   ]
  },
  {
   "cell_type": "code",
   "execution_count": 14,
   "metadata": {
    "colab": {
     "base_uri": "https://localhost:8080/"
    },
    "id": "DHQxo8bM5Zxi",
    "outputId": "f8ef5908-3d94-4a68-ab2f-05bb6025cd9f"
   },
   "outputs": [
    {
     "data": {
      "text/plain": [
       "[('cancer', 89),\n",
       " ('lung', 80),\n",
       " ('cells', 61),\n",
       " ('response', 60),\n",
       " ('years', 56),\n",
       " ('protein', 54),\n",
       " ('age', 52),\n",
       " ('activity', 52),\n",
       " ('carcinoma', 51),\n",
       " ('combination', 46),\n",
       " ('cell', 44),\n",
       " ('survival', 43),\n",
       " ('months', 41),\n",
       " ('failure', 40),\n",
       " ('weeks', 37),\n",
       " ('hepatitis', 37),\n",
       " ('patients', 36),\n",
       " ('mg', 36),\n",
       " ('time', 36),\n",
       " ('groups', 34),\n",
       " ('tumors', 34),\n",
       " ('infarction', 33),\n",
       " ('asthma', 33),\n",
       " ('vaccine', 32),\n",
       " ('pregnancy', 31)]"
      ]
     },
     "execution_count": 14,
     "metadata": {},
     "output_type": "execute_result"
    }
   ],
   "source": [
    "from collections import Counter\n",
    "count = Counter(freq)\n",
    "count.most_common(25)"
   ]
  },
  {
   "cell_type": "markdown",
   "metadata": {
    "id": "ZLIMH8L01AYv"
   },
   "source": [
    "### Print the top 25 most common noun phrases"
   ]
  },
  {
   "cell_type": "code",
   "execution_count": 15,
   "metadata": {
    "colab": {
     "base_uri": "https://localhost:8080/"
    },
    "id": "aUC5VAw6wxa9",
    "outputId": "5b0a82b9-8839-4096-e01c-6e6dbcd8f7fa"
   },
   "outputs": [
    {
     "data": {
      "text/plain": [
       "[('that', 113),\n",
       " ('which', 77),\n",
       " ('the treatment', 56),\n",
       " ('patients', 26),\n",
       " ('who', 25),\n",
       " ('pregnancy', 24),\n",
       " ('those', 20),\n",
       " ('age', 20),\n",
       " ('children', 19),\n",
       " ('survival', 19),\n",
       " ('combination', 19),\n",
       " ('they', 18),\n",
       " ('brief', 17),\n",
       " ('preeclampsia', 16),\n",
       " ('cisplatin', 16),\n",
       " ('mice', 15),\n",
       " ('acute myocardial infarction', 14),\n",
       " ('asthma', 14),\n",
       " ('duration', 13),\n",
       " ('the patients', 13),\n",
       " ('adults', 13),\n",
       " ('men', 13),\n",
       " ('addition', 12),\n",
       " ('the management', 12),\n",
       " ('nsclc', 12)]"
      ]
     },
     "execution_count": 15,
     "metadata": {},
     "output_type": "execute_result"
    }
   ],
   "source": [
    "# lets try and check the most common noun phrases\n",
    "count2 = Counter(freq2)\n",
    "count2.most_common(25)"
   ]
  },
  {
   "cell_type": "markdown",
   "metadata": {
    "id": "EiWWwKC50Cff"
   },
   "source": [
    "## Defining features for CRF\n"
   ]
  },
  {
   "cell_type": "code",
   "execution_count": 19,
   "metadata": {
    "id": "4qyub3mY0GOM"
   },
   "outputs": [],
   "source": [
    "# function to view the sentence and corresponding pos, dep, label for the word\n",
    "\n",
    "def view_sentence(s, l):\n",
    "    toks = l.split()\n",
    "    doc = nlp(s)\n",
    "    for i, y in enumerate(doc):\n",
    "        print(y.text + \" -- \" + y.pos_+ \" -- \" + y.dep_+ \" -- \" + toks[i])"
   ]
  },
  {
   "cell_type": "code",
   "execution_count": 20,
   "metadata": {
    "id": "qthKLmWJwGB-"
   },
   "outputs": [],
   "source": [
    "n=0\n",
    "def view_entity_sents():\n",
    "    global n\n",
    "    print(n)\n",
    "    for k in range(n, len(train_sent)):    \n",
    "        if \"D\" in train_label[k]:\n",
    "            n = k+1\n",
    "            yield view_sentence(train_sent[k], train_label[k])"
   ]
  },
  {
   "cell_type": "code",
   "execution_count": 21,
   "metadata": {
    "colab": {
     "base_uri": "https://localhost:8080/"
    },
    "id": "aJa94_pOwM1y",
    "outputId": "9cee5dd8-debc-44f5-f20a-e6c8335086ca"
   },
   "outputs": [
    {
     "name": "stdout",
     "output_type": "stream",
     "text": [
      "0\n",
      "The -- DET -- det -- O\n",
      "study -- NOUN -- compound -- O\n",
      "population -- NOUN -- nsubj -- O\n",
      "included -- VERB -- ROOT -- O\n",
      "84 -- NUM -- nummod -- O\n",
      "women -- NOUN -- dobj -- O\n",
      "with -- ADP -- prep -- O\n",
      "gestational -- ADJ -- amod -- D\n",
      "diabetes -- NOUN -- pobj -- D\n",
      ", -- PUNCT -- punct -- O\n",
      "ascertained -- VERB -- advcl -- O\n",
      "by -- ADP -- agent -- O\n",
      "universal -- ADJ -- amod -- O\n",
      "screening -- NOUN -- pobj -- O\n",
      "of -- ADP -- prep -- O\n",
      "all -- DET -- det -- O\n",
      "women -- NOUN -- pobj -- O\n",
      "attending -- VERB -- acl -- O\n",
      "the -- DET -- det -- O\n",
      "antenatal -- ADJ -- amod -- O\n",
      "clinic -- NOUN -- dobj -- O\n",
      "of -- ADP -- prep -- O\n",
      "the -- DET -- det -- O\n",
      "Hadassah -- PROPN -- compound -- O\n",
      "Medical -- PROPN -- compound -- O\n",
      "Center -- PROPN -- pobj -- O\n",
      ", -- PUNCT -- punct -- O\n",
      "over -- ADP -- prep -- O\n",
      "a -- DET -- det -- O\n",
      "2-year -- NUM -- amod -- O\n",
      "period -- NOUN -- pobj -- O\n"
     ]
    }
   ],
   "source": [
    "# viewing the sentences to understand the context in which diagnosis and treatment occour\n",
    "\n",
    "next(view_entity_sents())"
   ]
  },
  {
   "cell_type": "code",
   "execution_count": 22,
   "metadata": {
    "id": "k82yOLVtOuS-"
   },
   "outputs": [],
   "source": [
    "# function helpful in saving the data as word(tag) word(tag) format\n",
    "# so that we can easily review the functions\n",
    "\n",
    "def get_as_text(f_data,f_label):\n",
    "    with open(f_data) as fobj:\n",
    "        data = fobj.read().splitlines()\n",
    "    with open(f_label) as fobj:\n",
    "        labels = fobj.read().splitlines()\n",
    "    sentences = []\n",
    "    sentence = \"\"\n",
    "    for i, x in enumerate(data):\n",
    "        if len(x.strip()) != 0:\n",
    "            sentence += x\n",
    "            sentence += \"(\"+labels[i]+\")\"\n",
    "            sentence += \" \"\n",
    "        else:\n",
    "            sentences.append(sentence.strip())\n",
    "            sentence = \"\"\n",
    "    return sentences"
   ]
  },
  {
   "cell_type": "code",
   "execution_count": 23,
   "metadata": {
    "id": "An2FXogzPC6x"
   },
   "outputs": [],
   "source": [
    "# saving the test and train data in right format so we can view the data\n",
    "\n",
    "sents = get_as_text(\"./test_sent\",\"./test_label\")\n",
    "with open(\"content_text.txt\",\"w\") as fobj:\n",
    "    fobj.write(\"\\n\\n\".join(sents))\n",
    "\n",
    "sents = get_as_text(\"./train_sent\",\"./train_label\")\n",
    "with open(\"content.txt\",\"w\") as fobj:\n",
    "    fobj.write(\"\\n\\n\".join(sents))"
   ]
  },
  {
   "cell_type": "markdown",
   "metadata": {
    "id": "G5pxITTl1gxG"
   },
   "source": [
    "### Feature List\n",
    "\n",
    "Based on several data observations of pos tags and dependency tags for Treatment entites.<br>\n",
    "> for the current word: \n",
    "1. input word in lower case\n",
    "2. weather word starts with capital letter\n",
    "3. weather the word is stop word\n",
    "4. weather the word is oov\n",
    "5. dependency tag of the word\n",
    "6. pos tag of the word\n",
    "7. weather the word is a part of a noun chunk or not\n",
    "8. weather the word is at begining or at the end\n",
    "\n",
    "> for the next word:\n",
    "1. next word in lower case\n",
    "2. weather next word starts with capital letter\n",
    "3. dependency tag of next word\n",
    "4. pos tag of next word\n",
    "5. weather next word is a part of a noun chunk or not\n",
    "\n",
    "> for the previous word\n",
    "1. previous word in lower case\n",
    "2. weather previous word starts with capital letter\n",
    "3. dependency tag of previous word\n",
    "4. pos tag of previous word\n",
    "5. weather previous word is a part of a noun chunk or not"
   ]
  },
  {
   "cell_type": "markdown",
   "metadata": {
    "id": "QcQbL-9BNztE"
   },
   "source": [
    "## Getting the features"
   ]
  },
  {
   "cell_type": "markdown",
   "metadata": {
    "id": "N6lHpyuYN3at"
   },
   "source": [
    "### Write a code/function to get the features for a sentence\n"
   ]
  },
  {
   "cell_type": "code",
   "execution_count": 24,
   "metadata": {
    "id": "pNDDHZRF1gad"
   },
   "outputs": [],
   "source": [
    "#Define a function to get the above defined features for a word.\n",
    "\n",
    "def getFeaturesForOneWord(words, i):\n",
    "  word = words[i]\n",
    "\n",
    "  features = [\n",
    "    'word.lower=' + word.text.lower(),\n",
    "    'word.startsWithCapital=%s' % word.text[0].isupper(),\n",
    "    'word.stop=%s' % word.is_stop or word.is_punct,\n",
    "    'word.oov=%s' % word.is_oov,\n",
    "    'word.dep=' + word.dep_,\n",
    "    'word.depstart=' + word.dep_[:3],\n",
    "    'word.nounChunk=%s'% word._.noun_chunk,\n",
    "    'word.nounChunkStart=%s'% word._.noun_chunk,\n",
    "    'word.pos=' + word.pos_,\n",
    "    'word.posstart=' + word.pos_[:2],\n",
    "  ]\n",
    "\n",
    "  if(i > 0):\n",
    "    prev_word = words[i-1]\n",
    "    features.extend([\n",
    "    'prev_word.lower=' + prev_word.text.lower(), \n",
    "    'prev_word.startsWithCapital=%s' % prev_word.text[0].isupper(),\n",
    "    'prev_word.dep=' + prev_word.dep_,\n",
    "    'prev_word.depstart=' + prev_word.dep_[:3],\n",
    "    'prev_word.nounChunk=%s'% prev_word._.noun_chunk,\n",
    "    'prev_word.pos=' + prev_word.pos_,\n",
    "    'prev_word.posstart=' + prev_word.pos_[:2]\n",
    "  ])\n",
    "  else:\n",
    "    features.append('BEG') \n",
    "    \n",
    "  if(i < len(words)-1):\n",
    "    next_word = words[i+1]\n",
    "    features.extend([\n",
    "    'next_word.lower=' + next_word.text.lower(), \n",
    "    'next_word.startsWithCapital=%s' % next_word.text[0].isupper(),\n",
    "    'next_word.dep=' + next_word.dep_,\n",
    "    'next_word.depstart=' + next_word.dep_[:3],\n",
    "    'next_word.nounChunk=%s'% next_word._.noun_chunk,\n",
    "    'next_word.pos=' + next_word.pos_,\n",
    "    'next_word.posstart=' + next_word.pos_[:2]\n",
    "  ]) \n",
    "  else:\n",
    "    features.append('END')\n",
    "\n",
    "  return features"
   ]
  },
  {
   "cell_type": "code",
   "execution_count": 25,
   "metadata": {
    "id": "_-uh2Fk5yZ5j"
   },
   "outputs": [],
   "source": [
    "# Define a function to get features for a sentence \n",
    "# using the 'getFeaturesForOneWord' function.\n",
    "\n",
    "def getFeaturesForOneSentence(sentence):\n",
    "  sentence_list = nlp(sentence)\n",
    "  for noun_chunk in sentence_list.noun_chunks:\n",
    "    for token in noun_chunk:\n",
    "        if len(noun_chunk) > 0:\n",
    "            token._.noun_chunk = True\n",
    "  return [getFeaturesForOneWord(sentence_list, pos) for pos in range(len(sentence_list))]"
   ]
  },
  {
   "cell_type": "code",
   "execution_count": 26,
   "metadata": {
    "colab": {
     "base_uri": "https://localhost:8080/"
    },
    "id": "0k_P-yHlMvhV",
    "outputId": "ec724d2c-7344-49b9-fed6-9eb8cf29e767"
   },
   "outputs": [
    {
     "name": "stdout",
     "output_type": "stream",
     "text": [
      "Cesarean rates at tertiary care hospitals should be compared with rates at community hospitals only after correcting for dissimilar patient groups or gestational age\n",
      "O O O O O O O O O O O O O O O O O O O O O O O O\n"
     ]
    },
    {
     "data": {
      "text/plain": [
       "['word.lower=cesarean',\n",
       " 'word.startsWithCapital=True',\n",
       " 'word.stop=False',\n",
       " 'word.oov=True',\n",
       " 'word.dep=amod',\n",
       " 'word.depstart=amo',\n",
       " 'word.nounChunk=True',\n",
       " 'word.nounChunkStart=True',\n",
       " 'word.pos=ADJ',\n",
       " 'word.posstart=AD',\n",
       " 'BEG',\n",
       " 'next_word.lower=rates',\n",
       " 'next_word.startsWithCapital=False',\n",
       " 'next_word.dep=nsubjpass',\n",
       " 'next_word.depstart=nsu',\n",
       " 'next_word.nounChunk=True',\n",
       " 'next_word.pos=NOUN',\n",
       " 'next_word.posstart=NO']"
      ]
     },
     "execution_count": 26,
     "metadata": {},
     "output_type": "execute_result"
    }
   ],
   "source": [
    "# Apply function 'getFeaturesForOneSentence' to get features on a single \n",
    "# sentence which is at index value 5 in train_sentences\n",
    "\n",
    "i = 5\n",
    "example_sentence = train_sent[i]\n",
    "print(example_sentence)\n",
    "print(train_label[i])\n",
    "\n",
    "features = getFeaturesForOneSentence(example_sentence)\n",
    "features[0]"
   ]
  },
  {
   "cell_type": "markdown",
   "metadata": {
    "id": "8W3kEBC1Nq6G"
   },
   "source": [
    "### Write a code/function to get the labels of a sentence"
   ]
  },
  {
   "cell_type": "code",
   "execution_count": 27,
   "metadata": {
    "id": "rLAoQNFHNZpI"
   },
   "outputs": [],
   "source": [
    "# Define a function to get the labels for a sentence.\n",
    "\n",
    "def getLabelsInListForOneSentence(labels):\n",
    "  return labels.split()"
   ]
  },
  {
   "cell_type": "markdown",
   "metadata": {
    "id": "AabVjMoFN_n8"
   },
   "source": [
    "## Define input and target variables for train and test dataset"
   ]
  },
  {
   "cell_type": "code",
   "execution_count": 28,
   "metadata": {
    "id": "4hNDansQM5O7"
   },
   "outputs": [],
   "source": [
    "# creating train, validation and test data and corresponding label data\n",
    "\n",
    "from sklearn.model_selection import train_test_split\n",
    "\n",
    "X = [getFeaturesForOneSentence(sentence) for sentence in train_sent]\n",
    "Y = [getLabelsInListForOneSentence(labels) for labels in train_label]\n",
    "\n",
    "X_train, X_val, Y_train, Y_val = train_test_split(X, Y, test_size=0.2)\n",
    "\n",
    "X_test = [getFeaturesForOneSentence(sentence) for sentence in test_sent]\n",
    "Y_test = [getLabelsInListForOneSentence(labels) for labels in test_label]"
   ]
  },
  {
   "cell_type": "markdown",
   "metadata": {
    "id": "6Ntk-zdeOFKy"
   },
   "source": [
    "## Build the CRF Model"
   ]
  },
  {
   "cell_type": "code",
   "execution_count": 29,
   "metadata": {
    "colab": {
     "base_uri": "https://localhost:8080/"
    },
    "id": "OLSUJgcUNMPg",
    "outputId": "5fa1ff83-2a01-49ba-dd5f-27f166426c85"
   },
   "outputs": [
    {
     "name": "stderr",
     "output_type": "stream",
     "text": [
      "/opt/anaconda3/envs/upgrad/lib/python3.8/site-packages/sklearn/base.py:209: FutureWarning: From version 0.24, get_params will raise an AttributeError if a parameter cannot be retrieved as an instance attribute. Previously it would return None.\n",
      "  warnings.warn('From version 0.24, get_params will raise an '\n"
     ]
    },
    {
     "data": {
      "text/plain": [
       "CRF(algorithm='lbfgs', all_possible_transitions=True, c1=0.1, c2=0.1,\n",
       "    keep_tempfiles=None, max_iterations=100)"
      ]
     },
     "execution_count": 29,
     "metadata": {},
     "output_type": "execute_result"
    }
   ],
   "source": [
    "# Build the CRF model.\n",
    "\n",
    "crf = sklearn_crfsuite.CRF( keep_tempfiles=None,\n",
    "                            algorithm='lbfgs',\n",
    "                            c1=0.1,\n",
    "                            c2=0.1,\n",
    "                            max_iterations=100,\n",
    "                            all_possible_transitions=True)\n",
    "crf.fit(X_train, Y_train)"
   ]
  },
  {
   "cell_type": "code",
   "execution_count": 30,
   "metadata": {
    "id": "5vdz5pHmOPGv"
   },
   "outputs": [],
   "source": [
    "# predicting the values with the best predictor\n",
    "Y_val_pred = crf.predict(X_val)"
   ]
  },
  {
   "cell_type": "code",
   "execution_count": 31,
   "metadata": {
    "colab": {
     "base_uri": "https://localhost:8080/"
    },
    "id": "0Kg-0EsdMTaN",
    "outputId": "c39d309f-280f-412b-ffb7-fc7a3491fcc6"
   },
   "outputs": [
    {
     "name": "stdout",
     "output_type": "stream",
     "text": [
      "              precision    recall  f1-score   support\n",
      "\n",
      "           D      0.830     0.610     0.703       707\n",
      "           O      0.918     0.979     0.948      7639\n",
      "           T      0.738     0.369     0.492       642\n",
      "\n",
      "    accuracy                          0.907      8988\n",
      "   macro avg      0.829     0.653     0.714      8988\n",
      "weighted avg      0.899     0.907     0.896      8988\n",
      "\n"
     ]
    },
    {
     "name": "stderr",
     "output_type": "stream",
     "text": [
      "/opt/anaconda3/envs/upgrad/lib/python3.8/site-packages/sklearn/utils/validation.py:67: FutureWarning: Pass labels=['D', 'O', 'T'] as keyword args. From version 0.25 passing these as positional arguments will result in an error\n",
      "  warnings.warn(\"Pass {} as keyword args. From version 0.25 \"\n"
     ]
    }
   ],
   "source": [
    "# Calculate the f1 score using the test data\n",
    "\n",
    "labels = list(crf.classes_)\n",
    "sorted_labels = sorted(\n",
    "    labels,\n",
    "    key=lambda name: (name[1:], name[0])\n",
    ")\n",
    "print(metrics.flat_classification_report(\n",
    "    Y_val, Y_val_pred, labels=sorted_labels, digits=3\n",
    "))"
   ]
  },
  {
   "cell_type": "code",
   "execution_count": 32,
   "metadata": {
    "colab": {
     "base_uri": "https://localhost:8080/"
    },
    "id": "iRKQRLErMUla",
    "outputId": "8d55f1b5-932b-42d0-d20d-103e4a6ef900"
   },
   "outputs": [
    {
     "data": {
      "text/plain": [
       "0.8960679596016782"
      ]
     },
     "execution_count": 32,
     "metadata": {},
     "output_type": "execute_result"
    }
   ],
   "source": [
    "# printing the validation score\n",
    "\n",
    "metrics.flat_f1_score(Y_val, Y_val_pred, average='weighted')"
   ]
  },
  {
   "cell_type": "code",
   "execution_count": 33,
   "metadata": {
    "colab": {
     "base_uri": "https://localhost:8080/"
    },
    "id": "ZGaPVdAsMmaM",
    "outputId": "5dbab823-e0af-475d-bdf2-6bb786857350"
   },
   "outputs": [
    {
     "name": "stdout",
     "output_type": "stream",
     "text": [
      "Fitting 5 folds for each of 15 candidates, totalling 75 fits\n"
     ]
    },
    {
     "name": "stderr",
     "output_type": "stream",
     "text": [
      "[Parallel(n_jobs=-1)]: Using backend LokyBackend with 8 concurrent workers.\n",
      "[Parallel(n_jobs=-1)]: Done  34 tasks      | elapsed:  1.9min\n",
      "[Parallel(n_jobs=-1)]: Done  75 out of  75 | elapsed:  4.2min finished\n"
     ]
    },
    {
     "data": {
      "text/plain": [
       "RandomizedSearchCV(cv=5,\n",
       "                   estimator=CRF(algorithm='lbfgs',\n",
       "                                 all_possible_transitions=True,\n",
       "                                 keep_tempfiles=None, max_iterations=100),\n",
       "                   n_iter=15, n_jobs=-1,\n",
       "                   param_distributions={'c1': <scipy.stats._distn_infrastructure.rv_frozen object at 0x7f928681cf70>,\n",
       "                                        'c2': <scipy.stats._distn_infrastructure.rv_frozen object at 0x7f92843f8730>},\n",
       "                   scoring=make_scorer(flat_f1_score, average=weighted, labels=['O', 'D', 'T']),\n",
       "                   verbose=1)"
      ]
     },
     "execution_count": 33,
     "metadata": {},
     "output_type": "execute_result"
    }
   ],
   "source": [
    "# Hyper parameter tuning using random search CV\n",
    "\n",
    "import scipy\n",
    "from sklearn.model_selection import RandomizedSearchCV\n",
    "from sklearn.metrics import make_scorer\n",
    "\n",
    "crf2 = sklearn_crfsuite.CRF(keep_tempfiles=None,\n",
    "                            algorithm='lbfgs',\n",
    "                            max_iterations=100,\n",
    "                            all_possible_transitions=True)\n",
    "\n",
    "params_space = {\n",
    "    'c1': scipy.stats.expon(scale=0.5),\n",
    "    'c2': scipy.stats.expon(scale=0.05)\n",
    "}\n",
    "\n",
    "# use the same metric for evaluation\n",
    "f1_scorer = make_scorer(metrics.flat_f1_score,\n",
    "                        average='weighted', labels=['O','D','T'])\n",
    "\n",
    "# search\n",
    "rs = RandomizedSearchCV(crf2, params_space,\n",
    "                        cv=5,\n",
    "                        verbose=1,\n",
    "                        n_jobs=-1,\n",
    "                        n_iter=15,\n",
    "                        scoring=f1_scorer)\n",
    "rs.fit(X, Y)"
   ]
  },
  {
   "cell_type": "code",
   "execution_count": 34,
   "metadata": {
    "colab": {
     "base_uri": "https://localhost:8080/"
    },
    "id": "LJ4edoMOMw_X",
    "outputId": "f43d09c6-fa4a-429e-d1e0-71b427205355"
   },
   "outputs": [
    {
     "name": "stdout",
     "output_type": "stream",
     "text": [
      "              precision    recall  f1-score   support\n",
      "\n",
      "           D      0.827     0.599     0.694      1450\n",
      "           O      0.939     0.978     0.958     16127\n",
      "           T      0.751     0.552     0.636      1041\n",
      "\n",
      "    accuracy                          0.925     18618\n",
      "   macro avg      0.839     0.710     0.763     18618\n",
      "weighted avg      0.920     0.925     0.920     18618\n",
      "\n"
     ]
    }
   ],
   "source": [
    "# Calculate the f1 score using the test data\n",
    "\n",
    "Y_pred = rs.best_estimator_.predict(X_test)\n",
    "labels = list(rs.best_estimator_.classes_)\n",
    "sorted_labels = sorted(\n",
    "    labels,\n",
    "    key=lambda name: (name[1:], name[0])\n",
    ")\n",
    "print(metrics.flat_classification_report(\n",
    "    Y_test, Y_pred, labels=sorted_labels, digits=3\n",
    "))"
   ]
  },
  {
   "cell_type": "code",
   "execution_count": 35,
   "metadata": {
    "colab": {
     "base_uri": "https://localhost:8080/"
    },
    "id": "f4cLpgvlQWdx",
    "outputId": "a23251e7-7a38-463c-b64f-61ffb15bd03c"
   },
   "outputs": [
    {
     "name": "stdout",
     "output_type": "stream",
     "text": [
      "0.9197528864438721\n",
      "CRF(algorithm='lbfgs', all_possible_transitions=True, c1=0.008582690453911196,\n",
      "    c2=0.07236665832785741, keep_tempfiles=None, max_iterations=100)\n"
     ]
    }
   ],
   "source": [
    "# printing the validation score and best hyper parameters of the random search cv\n",
    "\n",
    "print(metrics.flat_f1_score(Y_test, Y_pred, average='weighted'))\n",
    "print(rs.best_estimator_)"
   ]
  },
  {
   "cell_type": "code",
   "execution_count": 36,
   "metadata": {
    "id": "yzAu5gb6WqMD"
   },
   "outputs": [],
   "source": [
    "# predicting the values with the best predictor\n",
    "\n",
    "Y_pred = rs.best_estimator_.predict(X_test)"
   ]
  },
  {
   "cell_type": "code",
   "execution_count": 37,
   "metadata": {
    "colab": {
     "base_uri": "https://localhost:8080/"
    },
    "id": "PTJxAg5bPzwA",
    "outputId": "49b6680f-0f06-4063-dc0c-6185619cb29b"
   },
   "outputs": [
    {
     "name": "stdout",
     "output_type": "stream",
     "text": [
      "Sentence: < TO_SEE > CONTEXT : There is a substantial risk of a second cancer for persons with hereditary retinoblastoma , which is enhanced by radiotherapy\n",
      "Orig Labels: ['O', 'O', 'O', 'O', 'O', 'O', 'O', 'O', 'O', 'O', 'O', 'O', 'O', 'O', 'O', 'O', 'O', 'O', 'O', 'O', 'O', 'O', 'O', 'O', 'O']\n",
      "Pred Labels: ['O', 'O', 'O', 'O', 'O', 'O', 'O', 'O', 'O', 'O', 'O', 'O', 'O', 'O', 'O', 'O', 'O', 'O', 'D', 'O', 'O', 'O', 'O', 'O', 'T']\n"
     ]
    }
   ],
   "source": [
    "# Print the orginal labels and predicted labels for the sentence in test data, which is at index value 46.\n",
    "\n",
    "id = 46\n",
    "print(\"Sentence:\",test_sent[id])\n",
    "print(\"Orig Labels:\", Y_test[id])\n",
    "print(\"Pred Labels:\", Y_pred[id])"
   ]
  },
  {
   "cell_type": "markdown",
   "metadata": {
    "id": "LKvfy4DOqr-u"
   },
   "source": [
    "### Create the logic to get all the predicted treatments (T) labels corresponding to each disease (D) label in the test dataset."
   ]
  },
  {
   "cell_type": "code",
   "execution_count": 38,
   "metadata": {
    "id": "FLMojsCXQbhC"
   },
   "outputs": [],
   "source": [
    "map = {}\n",
    "import pdb\n",
    "\n",
    "\n",
    "# this function only extracts words not very accurate\n",
    "# for i, x in enumerate(Y_pred):\n",
    "#     if 'D' in x and 'T' in x:\n",
    "        # prev = \"O\"\n",
    "        # diag = \"\"\n",
    "        # treat = \"\"\n",
    "        # for j, y in enumerate(Y_pred[i]):\n",
    "        #     if y == \"D\" and prev == 'D':\n",
    "        #         diag += test_sent[i].split()[j]\n",
    "        #         diag += \" \"\n",
    "        #     elif y == \"T\" and prev == 'T':\n",
    "        #         treat += test_sent[i].split()[j]\n",
    "        #         treat += \" \"\n",
    "        #     else:\n",
    "        #         prev = y\n",
    "        # if len(diag.strip()) > 0 and len(treat.strip()) > 0:\n",
    "        #     print(\"Diagnosis \" + diag + \" Treatment \" + treat)\n",
    "        #     map[diag] = treat\n",
    "\n",
    "\n",
    "# if a diagnosis or treatment is part of noun chunk, below function extracts\n",
    "# entire noun chunk a instead of pirticular word.\n",
    "\n",
    "for i, x in enumerate(Y_pred):\n",
    "    if 'D' in x and 'T' in x:\n",
    "        doc = nlp(test_sent[i])\n",
    "        for noun_chunk in doc.noun_chunks:\n",
    "            for token in noun_chunk:\n",
    "                token._.noun_chunk = noun_chunk\n",
    "        prev = \"O\"\n",
    "        diags = []\n",
    "        diag = \"\"\n",
    "        treat = \"\"\n",
    "        for j, y in enumerate(Y_pred[i]):\n",
    "            if y == \"D\":\n",
    "                if doc[j]._.noun_chunk and doc[j].text not in diag:\n",
    "                    diag += doc[j]._.noun_chunk.text\n",
    "                    diag += \" \"\n",
    "                elif doc[j].text not in diag:\n",
    "                    diag += test_sent[i].split()[j]\n",
    "                    diag += \" \"\n",
    "            elif y == \"T\":\n",
    "                if doc[j]._.noun_chunk and doc[j].text not in treat:\n",
    "                    treat += doc[j]._.noun_chunk.text\n",
    "                    treat += \" \"\n",
    "                elif doc[j].text not in treat:\n",
    "                    treat += test_sent[i].split()[j]\n",
    "                    treat += \" \"\n",
    "            elif y == \"O\":\n",
    "                if prev == \"D\":\n",
    "                    diags.append(diag)\n",
    "                    diag = \"\"\n",
    "                elif prev == \"T\":\n",
    "                    for d in diags:\n",
    "                        if d in map.keys():\n",
    "                            map[d] = map[d] + \", \" + treat\n",
    "                        else:\n",
    "                            map[d] = treat\n",
    "                    diags = []\n",
    "                else:\n",
    "                    diag = \"\"\n",
    "            prev = y\n",
    "        if (len(diag.strip()) > 0 or len(diags) > 0) and len(treat.strip()) > 0:\n",
    "            if len(diag.strip()) > 0:\n",
    "                diags.append(diag)\n",
    "            for d in diags:\n",
    "                if d in map.keys():\n",
    "                    map[d] = map[d] + \", \" + treat\n",
    "                else:\n",
    "                    map[d] = treat"
   ]
  },
  {
   "cell_type": "code",
   "execution_count": 39,
   "metadata": {
    "colab": {
     "base_uri": "https://localhost:8080/",
     "height": 2450
    },
    "id": "-VVe6YmPmVjJ",
    "outputId": "bac7552c-7a8b-4f34-e385-6df58d2aab74"
   },
   "outputs": [
    {
     "data": {
      "text/html": [
       "<div>\n",
       "<style scoped>\n",
       "    .dataframe tbody tr th:only-of-type {\n",
       "        vertical-align: middle;\n",
       "    }\n",
       "\n",
       "    .dataframe tbody tr th {\n",
       "        vertical-align: top;\n",
       "    }\n",
       "\n",
       "    .dataframe thead th {\n",
       "        text-align: right;\n",
       "    }\n",
       "</style>\n",
       "<table border=\"1\" class=\"dataframe\">\n",
       "  <thead>\n",
       "    <tr style=\"text-align: right;\">\n",
       "      <th></th>\n",
       "      <th>0</th>\n",
       "    </tr>\n",
       "  </thead>\n",
       "  <tbody>\n",
       "    <tr>\n",
       "      <th>good glycemic control</th>\n",
       "      <td>macrosomic infants gestational diabetes cases</td>\n",
       "    </tr>\n",
       "    <tr>\n",
       "      <th>radiotherapy</th>\n",
       "      <td>hereditary retinoblastoma</td>\n",
       "    </tr>\n",
       "    <tr>\n",
       "      <th>Methylphenidate</th>\n",
       "      <td>epilepsy</td>\n",
       "    </tr>\n",
       "    <tr>\n",
       "      <th>Methylphenidate</th>\n",
       "      <td>ADHD</td>\n",
       "    </tr>\n",
       "    <tr>\n",
       "      <th>roxithromycin</th>\n",
       "      <td>unstable angina or non-Q-wave myocardial infar...</td>\n",
       "    </tr>\n",
       "    <tr>\n",
       "      <th>...</th>\n",
       "      <td>...</td>\n",
       "    </tr>\n",
       "    <tr>\n",
       "      <th>vaccines</th>\n",
       "      <td>pertussis</td>\n",
       "    </tr>\n",
       "    <tr>\n",
       "      <th>sumatriptan</th>\n",
       "      <td>migraine</td>\n",
       "    </tr>\n",
       "    <tr>\n",
       "      <th>Surgical management</th>\n",
       "      <td>severe secondary peritonitis</td>\n",
       "    </tr>\n",
       "    <tr>\n",
       "      <th>Hepatic arterial infusion of chemotherapy</th>\n",
       "      <td>hepatic metastases from colorectal cancer</td>\n",
       "    </tr>\n",
       "    <tr>\n",
       "      <th>aerosolized salbutamol</th>\n",
       "      <td>stable asthma</td>\n",
       "    </tr>\n",
       "  </tbody>\n",
       "</table>\n",
       "<p>156 rows × 1 columns</p>\n",
       "</div>"
      ],
      "text/plain": [
       "                                                                                            0\n",
       "good glycemic control                          macrosomic infants gestational diabetes cases \n",
       "radiotherapy                                                       hereditary retinoblastoma \n",
       "Methylphenidate                                                                     epilepsy \n",
       "Methylphenidate                                                                         ADHD \n",
       "roxithromycin                               unstable angina or non-Q-wave myocardial infar...\n",
       "...                                                                                       ...\n",
       "vaccines                                                                           pertussis \n",
       "sumatriptan                                                                         migraine \n",
       "Surgical management                                             severe secondary peritonitis \n",
       "Hepatic arterial infusion of chemotherapy          hepatic metastases from colorectal cancer \n",
       "aerosolized salbutamol                                                         stable asthma \n",
       "\n",
       "[156 rows x 1 columns]"
      ]
     },
     "execution_count": 39,
     "metadata": {},
     "output_type": "execute_result"
    }
   ],
   "source": [
    "import pandas as pd\n",
    "pd.DataFrame(map.keys(), map.values())"
   ]
  },
  {
   "cell_type": "markdown",
   "metadata": {
    "id": "OMdS45r4UlDy"
   },
   "source": [
    "### Predict the treatment for the disease name: 'hereditary retinoblastoma'"
   ]
  },
  {
   "cell_type": "code",
   "execution_count": 41,
   "metadata": {
    "colab": {
     "base_uri": "https://localhost:8080/"
    },
    "id": "EI66pBD44Mhp",
    "outputId": "c2e49518-9a47-4020-a0cd-8f9efd5a0267"
   },
   "outputs": [
    {
     "name": "stdout",
     "output_type": "stream",
     "text": [
      "the treatment for hereditary retinoblastoma is radiotherapy \n"
     ]
    }
   ],
   "source": [
    "for x in map.keys():\n",
    "    if \"retinoblastoma\" in x:\n",
    "        print(\"the treatment for hereditary retinoblastoma is\", map[x] )"
   ]
  }
 ],
 "metadata": {
  "colab": {
   "collapsed_sections": [],
   "name": "CRF Health Care Entity Recognition.ipynb",
   "provenance": []
  },
  "kernelspec": {
   "display_name": "Python 3 (ipykernel)",
   "language": "python",
   "name": "python3"
  },
  "language_info": {
   "codemirror_mode": {
    "name": "ipython",
    "version": 3
   },
   "file_extension": ".py",
   "mimetype": "text/x-python",
   "name": "python",
   "nbconvert_exporter": "python",
   "pygments_lexer": "ipython3",
   "version": "3.8.12"
  }
 },
 "nbformat": 4,
 "nbformat_minor": 1
}
